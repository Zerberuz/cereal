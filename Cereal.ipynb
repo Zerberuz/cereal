{
  "nbformat": 4,
  "nbformat_minor": 0,
  "metadata": {
    "colab": {
      "provenance": [],
      "authorship_tag": "ABX9TyMFS7UJoXA0ejLNZ3JWmbO9",
      "include_colab_link": true
    },
    "kernelspec": {
      "name": "python3",
      "display_name": "Python 3"
    },
    "language_info": {
      "name": "python"
    }
  },
  "cells": [
    {
      "cell_type": "markdown",
      "metadata": {
        "id": "view-in-github",
        "colab_type": "text"
      },
      "source": [
        "<a href=\"https://colab.research.google.com/github/Zerberuz/cereal/blob/main/Cereal.ipynb\" target=\"_parent\"><img src=\"https://colab.research.google.com/assets/colab-badge.svg\" alt=\"Open In Colab\"/></a>"
      ]
    },
    {
      "cell_type": "code",
      "execution_count": 2,
      "metadata": {
        "colab": {
          "base_uri": "https://localhost:8080/"
        },
        "id": "OjdW-bs-HUFF",
        "outputId": "93b48794-799b-4e30-9815-aec7ce5c72c2"
      },
      "outputs": [
        {
          "output_type": "stream",
          "name": "stdout",
          "text": [
            "[ 50.  50.  50.  70.  70.  80.  90.  90.  90.  90.  90.  90.  90. 100.\n",
            " 100. 100. 100. 100. 100. 100. 100. 100. 100. 100. 100. 100. 100. 100.\n",
            " 100. 100. 110. 110. 110. 110. 110. 110. 110. 110. 110. 110. 110. 110.\n",
            " 110. 110. 110. 110. 110. 110. 110. 110. 110. 110. 110. 110. 110. 110.\n",
            " 110. 110. 110. 120. 120. 120. 120. 120. 120. 120. 120. 120. 120. 130.\n",
            " 130. 140. 140. 140. 150. 150. 160.]\n",
            "CrunchieMunchies tiene 46.9 calorías menos que el promedio. \n",
            "Calorias promedio: 106.88311688311688\n",
            "Mediana de calorías: 110.0\n",
            "El percentil 4%: 70.0 calorias\n",
            "El 96.1038961038961% de cereales tienen más de 60 calorías por porción.\n",
            "Desviación estándar de las calorías: 19.35718533390827\n"
          ]
        }
      ],
      "source": [
        "import numpy as np\n",
        "# Ruta al archivo CSV\n",
        "calorie_stats = np.genfromtxt('/content/cereal.csv', delimiter =\",\")\n",
        "averange_calories = np.mean(calorie_stats)\n",
        "prom_calories= np.array(calorie_stats)\n",
        "median_calories = np.median(calorie_stats)\n",
        "calorie_stats_sorted = np.sort(calorie_stats)\n",
        "nth_percentile = None\n",
        "for p in range(100):\n",
        "  percentile_value = np.percentile(calorie_stats, p)\n",
        "  if percentile_value > 60:\n",
        "    break\n",
        "more_than_60 = np.sum(prom_calories > 60)\n",
        "total_cereales = len(prom_calories)\n",
        "more_calories = (more_than_60 / total_cereales) * 100\n",
        "more_calories = np.mean(calorie_stats > 60) * 100\n",
        "calorie_std = np.std(calorie_stats)\n",
        "print(calorie_stats_sorted)\n",
        "print(f\"CrunchieMunchies tiene {round((averange_calories-60), 1)} calorías menos que el promedio. \")\n",
        "print(\"Calorias promedio:\", np.mean(prom_calories))\n",
        "print(\"Mediana de calorías:\", median_calories)\n",
        "print(f\"El percentil {p}%: {percentile_value} calorias\")\n",
        "print(f\"El { more_calories}% de cereales tienen más de 60 calorías por porción.\")\n",
        "print(\"Desviación estándar de las calorías:\", calorie_std)\n",
        "\n"
      ]
    }
  ]
}